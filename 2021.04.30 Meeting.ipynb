{
 "cells": [
  {
   "cell_type": "markdown",
   "metadata": {},
   "source": [
    "### Motivation"
   ]
  },
  {
   "cell_type": "markdown",
   "metadata": {},
   "source": [
    "Very simple motivation: \n",
    "- when agents choose between two options, do stronger preferences imply faster choices? \n",
    "- Can we test this?\n",
    "- If not, what models can we use to describe their behavior?\n",
    "- Can we test those models too?"
   ]
  },
  {
   "cell_type": "markdown",
   "metadata": {},
   "source": [
    "### Time-Preference Monotonicity [to be renamed]\n",
    "\n",
    "Suppose an agent is choosing between alternatives in $X$, and the choice takes a certain amount of time $\\tau$. For any $x, y \\in X$:\n",
    "\n",
    "- let $F^{xy}(t)$ be the probability that the agent makes a choice by time $t$.\n",
    "\n",
    "- let $p^{xy}(t)$ be the probability that the agent picks $x$ conditional on stopping at time $t$.\n",
    "\n",
    "- let $p(x, y)$ denote the marginal probability that the agent picks $x$ over $y$.\n",
    "\n",
    "**Time-Preference Monotonicity Axiom v1 (needs a better name)** \n",
    "For alternatives $x, y, z \\in X$, suppose without loss of generality that $p(x, y), p(x, z) \\ge 0.5$. Then $p(x, y) \\ge p(x, z)$ implies $F^{xy}(t) \\ge F^{xz}(t)$.\n",
    "\n",
    "**Time-Preference Monotonicity Axiom v2 (stronger version)** \n",
    "For alternatives $x, w, y, z \\in X$, suppose without loss of generality that $p(x, y) \\ge p(w, z) \\ge 0.5$. Then $F^{xy}(t) \\ge F^{wz}(t)$."
   ]
  },
  {
   "cell_type": "markdown",
   "metadata": {},
   "source": [
    "Intuitively, this means that if the agent prefers $x$ to $y$ more strongly than they prefer $x$ to $z$, they can also make decisions more quickly. In particular, $\\tau_{xz} \\succcurlyeq \\tau_{xy}$ (weak first-order stochastic dominance)."
   ]
  },
  {
   "cell_type": "markdown",
   "metadata": {},
   "source": [
    "We aim to make a few contributions:\n",
    "\n",
    "1. Show that common choice models satisfy this axiom\n",
    "    - DDM model does, we think\n",
    "2. Develop simple, frequentist tests of this axiom. This is simple except for the multiple testing problem.\n",
    "    - This test will ideally quantify deviations from the axiom, because in the real world the null will definitely be false\n",
    "    - This is pretty simple and may have more power in finite samples than nonparametric tests than competitors, for some alternatives\n",
    "3. Extend common models to accomodate some violations of this axiom\n",
    "    - In particular, we want to extend the DDM model\n",
    "4. Develop tests for those extensions as well\n",
    "    - This is to-do!\n",
    "    \n",
    "    \n",
    "Other models:\n",
    "  - Accumulator models\n",
    "  - Full DDM\n",
    "      - Boundary constant, randomized starting point, randomized drift, random delay"
   ]
  },
  {
   "cell_type": "markdown",
   "metadata": {},
   "source": [
    "### Characterization of DDM Models"
   ]
  },
  {
   "cell_type": "markdown",
   "metadata": {},
   "source": [
    "DDM model from [Prof. Strzalecki's paper](https://www.pnas.org/content/117/52/33141.short) assumes we have utilities $u : X \\to \\mathbb{R}$, a boundary $b : \\mathbb{R}_{+} \\to \\mathbb{R}_{+}$ such that\n",
    "\n",
    "$$p^{xy}(t) = p^*(t, u(x) - u(y), b) $$\n",
    "$$F^{xy}(t) = F^*(t, u(x) - u(y), b). $$\n",
    "\n",
    "Note the boundary and the volatility are fixed over different pairs of alternatives $x, y \\in X$."
   ]
  },
  {
   "cell_type": "markdown",
   "metadata": {},
   "source": [
    "**Theorem**: If $p, F$ admit a DDM representation, then they satisfy the TPMA axiom."
   ]
  },
  {
   "cell_type": "markdown",
   "metadata": {},
   "source": [
    "Proof: in three steps.\n",
    "\n",
    "*Claim 1 (trivial claim)*: $p(x, y) \\ge p(x, z)$ if and only if $\\delta_{xy} = u(x) - u(y) \\ge u(x) - u(z) = \\delta_{xz}$."
   ]
  },
  {
   "cell_type": "markdown",
   "metadata": {},
   "source": [
    "Proof: The stochastic process $Z_t^{xy} = \\delta_{xy} t + \\alpha B_t$ *jointly* stochastically dominates the stochastic process $Z_t^{xz} = \\delta_{xz} t + \\alpha B_t$. There is therefore a (trivial) coupling such that $\\delta_{xy} t + \\alpha B_t > \\delta_{xz} t + \\alpha B_t$, so if the agent chooses $x$ over $z$, then they also choose $x$ over $y$."
   ]
  },
  {
   "cell_type": "markdown",
   "metadata": {},
   "source": [
    "*Claim 2*: $\\delta_{xy} \\ge \\delta_{xz}$ if and only if $|Z_t^{xy}| \\succcurlyeq |Z_t^{xz}|$ for each fixed $t$.\n"
   ]
  },
  {
   "cell_type": "markdown",
   "metadata": {},
   "source": [
    "Proof: note $\\delta_{xy} \\ge \\delta_{xz} \\ge 0$ by assumption, so $|\\delta_{xy}| \\ge |\\delta_{xz}|$. The rest is just properties of folded normals."
   ]
  },
  {
   "cell_type": "markdown",
   "metadata": {},
   "source": [
    "Marginally, $Z_t^{xy} \\sim \\mathcal{N}(\\delta_{xy} t, \\alpha^2 t)$. It suffices to show that if $Z \\sim N(\\mu, \\sigma^2)$, then $\\mathbb{P}(|Z| > c)$ is increasing in $|\\mu|$. Equivalently, we can show the CDF is decreasing in $|\\mu|$. "
   ]
  },
  {
   "cell_type": "markdown",
   "metadata": {},
   "source": [
    "The CDF of a folded normal for $x > 0$ is\n",
    "$$\\frac{1}{2} \\left[\\text{erf}\\left(\\frac{x+\\mu}{\\sigma \\sqrt{2}} \\right) + \\text{erf}\\left(\\frac{x-\\mu}{\\sigma \\sqrt{2}} \\right) \\right] $$"
   ]
  },
  {
   "cell_type": "markdown",
   "metadata": {},
   "source": [
    "We can take $\\sigma = 1 / \\sqrt{2}$ without loss of generality."
   ]
  },
  {
   "cell_type": "markdown",
   "metadata": {},
   "source": [
    "The derivative with respect to $\\mu$ is\n",
    "$$\\propto \\exp(-(x+\\mu)^2) - \\exp(-(x-\\mu)^2) $$"
   ]
  },
  {
   "cell_type": "markdown",
   "metadata": {},
   "source": [
    "This is negative when $\\mu > 0$ and positive when $\\mu < 0$."
   ]
  },
  {
   "cell_type": "markdown",
   "metadata": {},
   "source": [
    "*This claim isn't quite strong enough to prove the stopping time part.*\n"
   ]
  },
  {
   "cell_type": "markdown",
   "metadata": {},
   "source": [
    "**Claim 3**: We can construct a coupling of $Z^{xy}$ and $Z^{xz}$ such that $|Z^{xy}| \\ge |Z^{xz}|$ for all $t$ simaltaneously."
   ]
  },
  {
   "cell_type": "markdown",
   "metadata": {},
   "source": [
    "Sketch:\n",
    "\n",
    "1. Brownian motion is the limit of a time-discrete gaussian process. For example, suppose we have $Z^{xy}_{2 \\epsilon} = Z^{xy}_{\\epsilon} + N(0, \\epsilon)$, etc. So we'll start by constructing a version which is coupled such that at discrete time-points $\\epsilon, 2 \\epsilon, 3 \\epsilon, \\dots,$, $|Z^{xy}_{k \\epsilon}| \\ge |Z^{xz}_{k \\epsilon}|$ for all $k$.\n",
    "\n",
    "\n",
    "\n",
    "2. Fix $\\epsilon$. We can ensure that $|Z^{xy}_{\\epsilon}| \\ge |Z_{\\epsilon}^{xz}|$ by the previous analysis. \n",
    "\n",
    "AHA! What if:\n",
    "$$\\mathbb{P}\\left(|Z^{xy}_{\\epsilon} + N(\\delta, \\epsilon)| \\ge c\\right) \\mid |Z_{\\epsilon}^{xy}|$$\n",
    "is increasing in $|Z_{\\epsilon}^{xy}|$?\n",
    "\n",
    "This is a mixture of folded normals. It's conceivable the mixture stochastically dominates a regular folded normal.\n",
    "\n",
    "(Note because $|Z_{\\epsilon}^{xy} + N(0, \\epsilon)|$ is distributed as a folded normal with mean $|Z_{\\epsilon}^{xy}|$ no matter the sign of $Z_{\\epsilon}^{xy}$.)"
   ]
  },
  {
   "cell_type": "markdown",
   "metadata": {},
   "source": [
    "3. Take the limit as $\\epsilon \\to 0$: this is easier said than done, but we'll muddle through. We have a few options:\n",
    "    \n",
    "    - We can use the same tools that people used to prove the existence of Brownian motion (wavelets, etc)\n",
    "    \n",
    "    - We can be clever with CDFs or something to show that as $\\epsilon \\to 0$, the probability that $Z^{xz}$ crosses the boundary before $Z^{xy}$ goes to zero. I actually prefer this option."
   ]
  },
  {
   "cell_type": "markdown",
   "metadata": {},
   "source": [
    "### Tests of the axiom"
   ]
  },
  {
   "cell_type": "markdown",
   "metadata": {},
   "source": [
    "#### The simplest test(s)\n",
    "\n",
    "1. Once you know $\\rho(x, y) \\ge \\rho(x, z) \\ge 0.5$ with confidence, this is just a test of stochastic dominance. There are a myriad of ways to get $p$-values for stochastic dominance tests:\n",
    "    - $t$-test, because $\\tau_{xz} \\succcurlyeq \\tau_{xy}$ implies the one-sided null $\\mathbb{E}[\\tau_{xy}] < \\mathbb{E}[\\tau_{xz}]$. \n",
    "    - more sophisticated tests https://www.jstor.org/stable/3082041?seq=1"
   ]
  },
  {
   "cell_type": "markdown",
   "metadata": {},
   "source": [
    "2. You can test this for all $x, y, z \\in X$ (or random subsets if that's too computationally expensive) and then apply your favorite multiple testing correction to these $p$-values"
   ]
  },
  {
   "cell_type": "markdown",
   "metadata": {},
   "source": [
    "3. There are also other clever things you can do to narrow down which trios to test "
   ]
  },
  {
   "cell_type": "markdown",
   "metadata": {},
   "source": [
    "#### Possibly clever-er tests"
   ]
  },
  {
   "cell_type": "markdown",
   "metadata": {},
   "source": [
    "1. Idea: define an estimand which equals $0$ under the null. Then, estimate it. Here are some interpretable but probably mathematically inconvenient examples:\n",
    "\n",
    "\n",
    "- $$\\max_{x,y,z \\in X \\text{ s.t. } x \\succcurlyeq y \\succcurlyeq  z} \\max_{t \\in \\mathbb{R}_{+}} F^{xz}(t) - F^{xy}(t) $$"
   ]
  },
  {
   "cell_type": "markdown",
   "metadata": {},
   "source": [
    "### Classes of models which accomodate violations of this axiom\n",
    "\n",
    "Basic idea: in addition to utility, there's a parameter governing how difficult it is to gain information about a particular alternative.\n",
    "\n",
    "**Broader Axiom [this really needs a name]:** Let $\\rho : X \\times X \\to [0,1]$ be the pairwise stochastic choice function and let $F^{xy} : \\mathbb{R}_{+} \\to [0,1]$ be the probability of making a choice by time $t$, for each $x, y \\in X$. This axiom states that there exists some functions\n",
    "\n",
    "$$u : X \\to \\mathbb{R} $$\n",
    "$$a : X \\to \\mathbb{R}_{+} $$"
   ]
  },
  {
   "cell_type": "markdown",
   "metadata": {},
   "source": [
    "such that\n",
    "\n",
    "\\begin{equation}\n",
    "\\rho(x, y) \\ge \\rho(w, z) \\Leftrightarrow u(x) - u(y) \\ge u(w) - u(z) \n",
    "\\end{equation}"
   ]
  },
  {
   "cell_type": "markdown",
   "metadata": {},
   "source": [
    "and"
   ]
  },
  {
   "cell_type": "markdown",
   "metadata": {},
   "source": [
    "\\begin{equation}\n",
    "F^{xy}(t) \\ge F^{wz}(t) \\Leftrightarrow \\frac{|u(x) - u(y)|}{a(x) + a(y)} \\ge \\frac{|u(w) - u(z)|}{a(w) + a(z)}\n",
    "\\end{equation}\n"
   ]
  },
  {
   "cell_type": "markdown",
   "metadata": {},
   "source": [
    "*Note: the functional form of this axiom might change a bit.*"
   ]
  },
  {
   "cell_type": "markdown",
   "metadata": {},
   "source": [
    "- What if objects are super-high-cost to acquire information, and people just give up on them\n",
    "\n",
    "- This axiom is only valuable if the previous axiom is violated\n",
    "\n",
    "    - See in what directions your first axiom is violated\n",
    "    - This will inform your speculation on what model will accomodate this violation\n",
    "    - In stochastic transitivity section, look at $3.38$, think about distance metrics"
   ]
  },
  {
   "cell_type": "markdown",
   "metadata": {},
   "source": [
    "**DDM Model which (less trivially) satisfies this axiom**: \n",
    "\n",
    "DDM model from [Prof. Strzalecki's paper](https://www.pnas.org/content/117/52/33141.short) assumes we have utilities $u : X \\to \\mathbb{R}$, a boundary $b : \\mathbb{R}_{+} \\to \\mathbb{R}_{+}$ such that\n",
    "\n",
    "$$p^{xy}(t) = p^*(t, u(x) - u(y), b, \\alpha^x + \\alpha^y) $$\n",
    "$$p^{xy}(t) = F^*(t, u(x) - u(y), b, \\alpha^x + \\alpha^y). $$\n",
    "\n",
    "Note the volatility is no longer fixed over different pairs of alternatives $x, y \\in X$."
   ]
  },
  {
   "cell_type": "markdown",
   "metadata": {},
   "source": [
    "- Look at Exercise 10.14"
   ]
  },
  {
   "cell_type": "markdown",
   "metadata": {},
   "source": [
    "- Think about an agent optimizing---make a story"
   ]
  }
 ],
 "metadata": {
  "kernelspec": {
   "display_name": "Python 3.9",
   "language": "python",
   "name": "python3.9"
  },
  "language_info": {
   "codemirror_mode": {
    "name": "ipython",
    "version": 3
   },
   "file_extension": ".py",
   "mimetype": "text/x-python",
   "name": "python",
   "nbconvert_exporter": "python",
   "pygments_lexer": "ipython3",
   "version": "3.9.4"
  }
 },
 "nbformat": 4,
 "nbformat_minor": 2
}
